{
 "cells": [
  {
   "cell_type": "markdown",
   "metadata": {},
   "source": [
    "* ## Primeros programas:"
   ]
  },
  {
   "cell_type": "markdown",
   "metadata": {},
   "source": [
    "1. Crea un programa que solicite tu nombre y te de la bienvenida al curso de sistemas de gestión empresarial con una frase tipo “Hola NOMBRE! Bienvenido al curso de SGE 21/22”."
   ]
  },
  {
   "cell_type": "code",
   "execution_count": null,
   "metadata": {},
   "outputs": [],
   "source": [
    "print(\"Hola \" + input(\"Introduce tu nombre: \").upper() + \"! Bienvenido al curso de SGE 21/22\")"
   ]
  },
  {
   "cell_type": "markdown",
   "metadata": {},
   "source": [
    "2. Haz un programa que adivine la talla de pie y la edad del usuario que lo ejecute. Se basa en un sencillo truco matemático. El programa debe pedir al usuario que realice las siguientes operaciones (las operaciones la tiene que realizar el de cabeza, no el programa):\n",
    "* Pensar, escribir o apuntar su talla de zapato.\n",
    "* Multiplicar ese número por 5.\n",
    "* Sumarle 50.\n",
    "* Multiplicarlo por 20.\n",
    "* Sumarle 1022.\n",
    "* Restarle el año de nacimiento.\n",
    "\n",
    "Después debes preguntarle el resultado y calcular su talla de zapato. Para obtener la talla, las dos primeras cifras corresponderán a la talla del zapato y las dos siguientes a la edad del usuario."
   ]
  },
  {
   "cell_type": "code",
   "execution_count": 19,
   "metadata": {},
   "outputs": [
    {
     "name": "stdout",
     "output_type": "stream",
     "text": [
      "\n",
      "    Juguemos a un juego!!!!!\n",
      "    Sigue estas instrucciones:\n",
      "        * Pensar, escribir o apuntar su talla de zapato.\n",
      "        * Multiplicar ese número por 5.\n",
      "        * Sumarle 50.\n",
      "        * Multiplicarlo por 20.\n",
      "        * Sumarle 1022.\n",
      "        * Restarle el año de nacimiento.\n",
      "La talla de tu zapato es: 42 tu edad es: 19\n"
     ]
    }
   ],
   "source": [
    "print(\"\"\"\n",
    "    Juguemos a un juego!!!!!\n",
    "    Sigue estas instrucciones:\n",
    "        * Pensar, escribir o apuntar su talla de zapato.\n",
    "        * Multiplicar ese número por 5.\n",
    "        * Sumarle 50.\n",
    "        * Multiplicarlo por 20.\n",
    "        * Sumarle 1022. (creo que como estamos en 2025 hay que sumar 1025)\n",
    "        * Restarle el año de nacimiento.\"\"\")\n",
    "resultado = input(\"Resultado: \")\n",
    "print(\"La talla de tu zapato es: \" + resultado[:2]+ \" tu edad es: \" + resultado[2:])"
   ]
  },
  {
   "cell_type": "markdown",
   "metadata": {},
   "source": [
    "* ## Control de flujo:"
   ]
  },
  {
   "cell_type": "markdown",
   "metadata": {},
   "source": [
    "1. Programa que dibuje con asteriscos un triángulo rectángulo isósceles de N asteriscos de alto. _Opcional: pintar triangulo rectángulo escaleno._"
   ]
  },
  {
   "cell_type": "code",
   "execution_count": 20,
   "metadata": {},
   "outputs": [
    {
     "name": "stdout",
     "output_type": "stream",
     "text": [
      "Triángulo rectángulo isósceles: \n",
      "*\n",
      "**\n",
      "***\n",
      "****\n",
      "*****\n",
      "******\n",
      "*******\n",
      "********\n",
      "*********\n",
      "Triángulo rectángulo escaleno: \n",
      "*\n",
      "******\n",
      "***********\n",
      "****************\n",
      "*********************\n",
      "**************************\n",
      "*******************************\n",
      "************************************\n",
      "*****************************************\n"
     ]
    }
   ],
   "source": [
    "import random\n",
    "altura = int(input(\"Introduce el alto del triángulo rectángulo isósceles: \"))\n",
    "print(\"Triángulo rectángulo isósceles: \")\n",
    "for i in range(altura):\n",
    "    print(\"*\" * (i + 1))\n",
    "print(\"Triángulo rectángulo escaleno: \")\n",
    "base = random.randint(2,5) * altura\n",
    "for i in range(altura):\n",
    "    print((\"*\" * (i * int(base / altura) + 1)))"
   ]
  },
  {
   "cell_type": "markdown",
   "metadata": {},
   "source": [
    "2. Programa que adivine el numero en el que está pensando (entre 0 y 100) el usuario por tanteo (preguntando sucesivamente si es mayor o menor que un número aleatorio de partida)\n"
   ]
  },
  {
   "cell_type": "code",
   "execution_count": 21,
   "metadata": {},
   "outputs": [
    {
     "name": "stdout",
     "output_type": "stream",
     "text": [
      "El número es: 47\n"
     ]
    }
   ],
   "source": [
    "menor = 0\n",
    "mayor = 100\n",
    "adivinado = False\n",
    "while not adivinado:\n",
    "    if menor > mayor or mayor < menor:\n",
    "        print(\"Tiene que ser un número entre 0 y 100, tus respuestas no cuadran, seguramente tu número ya haya salido\")\n",
    "        break\n",
    "    intento = random.randint(menor,mayor)\n",
    "    respuesta = input(\"El número es mayor que \" + str(intento) + \"?  Y/N, dejar vacío si ha acertado el número:\").lower()\n",
    "    if respuesta == 'y' :\n",
    "        menor = intento + 1\n",
    "    elif respuesta == 'n' :\n",
    "        mayor = intento -1\n",
    "    else : \n",
    "        print(\"El número es: \" + str(intento))\n",
    "        adivinado = True\n",
    "    "
   ]
  },
  {
   "cell_type": "markdown",
   "metadata": {},
   "source": [
    "3. Usar un for para imprimir por pantalla todos los múltiplos de 7 menores de 100.\n"
   ]
  },
  {
   "cell_type": "code",
   "execution_count": null,
   "metadata": {},
   "outputs": [],
   "source": [
    "for i in range(1,100):\n",
    "    if i % 7 == 0 : \n",
    "        print(i)"
   ]
  },
  {
   "cell_type": "markdown",
   "metadata": {},
   "source": [
    "* ## Trabajo con cadenas de caracteres:"
   ]
  },
  {
   "cell_type": "markdown",
   "metadata": {},
   "source": [
    "1. Solicitar una oración por teclado y realizar las siguientes operaciones sobre ella:\n",
    "* Mostrar longitud de la cadena.\n",
    "* Mostrar espacios en blanco se ingresaron.\n",
    "* Mostrar toda la oración en letras mayúsculas.\n",
    "* Duplicar el contenido de la cadena.\n",
    "* Dividir la cadena en una lista de palabras y recorrerla mostrándola y numerando cada palabra."
   ]
  },
  {
   "cell_type": "code",
   "execution_count": null,
   "metadata": {},
   "outputs": [],
   "source": [
    "oracion = input(\"Introduce una oración: \")\n",
    "longitud = len(oracion)\n",
    "blancos = oracion.count(\" \")\n",
    "mayus = oracion.upper()\n",
    "duplicado = oracion*2\n",
    "lista = oracion.split(\" \")\n",
    "\n",
    "print(f\"\"\"\n",
    "Longitud de la cadena:  {longitud}\n",
    "Espacios en blanco:     {blancos}      \n",
    "Oración en mayúsculas:  {mayus}\n",
    "Contenido duplicado:    {duplicado}\n",
    "Palabras numeradas:     \"\"\")\n",
    "for palabra in lista:\n",
    "    print(\"\\t\\t\\t\" + str(lista.index(palabra))+ \". \" + palabra)"
   ]
  },
  {
   "cell_type": "markdown",
   "metadata": {},
   "source": [
    "* ## Colecciones:"
   ]
  },
  {
   "cell_type": "markdown",
   "metadata": {},
   "source": [
    "1. Definir una lista por asignación con 5 enteros. Mostrar por pantalla solo los elementos con valor iguales o superiores a 7.\n"
   ]
  },
  {
   "cell_type": "code",
   "execution_count": null,
   "metadata": {},
   "outputs": [],
   "source": [
    "lista = [random.randint(1,10), random.randint(1,10), random.randint(1,10), random.randint(1,10), random.randint(1,10)]\n",
    "for valor in lista :\n",
    "    if valor >= 7 :\n",
    "        print(valor)"
   ]
  },
  {
   "cell_type": "markdown",
   "metadata": {},
   "source": [
    "2. Crear un programa que almacene nombres de personas, tras introducir un nombre nuevo mostrará un conteo de los nombres que tienen 5 o más caracteres y preguntará si desea introducir un nuevo nombre o salir del programa. _Opcional: Cargar palabras a partir de un archivo txt._\n"
   ]
  },
  {
   "cell_type": "code",
   "execution_count": null,
   "metadata": {},
   "outputs": [],
   "source": [
    "salir = False\n",
    "personas = []\n",
    "try:    \n",
    "        archivo =  open(\"fichero.txt\", 'r')    \n",
    "        personas = [linea.strip() for linea in archivo.readlines()]\n",
    "        archivo.close()\n",
    "except:\n",
    "        print(f\"El archivo {archivo} no se encontró.\")\n",
    "        \n",
    "\n",
    "while not salir:\n",
    "    contador = 0\n",
    "    for palabra in personas:\n",
    "        if len(palabra) >= 5: #Cuenta las tildes como dos carácteres, habría que normalizar\n",
    "            contador+=1\n",
    "\n",
    "    print(f\"Hay {contador} personas con un nombre de 5 o más carácteres\")\n",
    "\n",
    "    respuesta = input(\"Quiere introducir otro nombre?  Y/N\").lower()\n",
    "    if respuesta == 'y' :\n",
    "            personas.append(input(\"Introduce el nuevo nombre: \"))\n",
    "    elif respuesta == 'n' :\n",
    "            print(\"Saliendo del programa...\")\n",
    "            salir = True\n",
    "    else : \n",
    "        print(\"Opción incorrecta\")"
   ]
  },
  {
   "cell_type": "markdown",
   "metadata": {},
   "source": [
    "3. Crear un programa que almacene con dos opciones: 1. Agregar personas: permite introducir nombres de personas de forma interactiva, 2. Sorteo: devuelve el nombre de una persona al azar. _Opcional: Cargar nombre a partir de un archivo csv._\n"
   ]
  },
  {
   "cell_type": "code",
   "execution_count": null,
   "metadata": {},
   "outputs": [],
   "source": [
    "import random\n",
    "\n",
    "salir = False\n",
    "personas = []\n",
    "while not salir:\n",
    "    opcion = input(\"\"\"\n",
    "                    1. Agregar personas de forma interactiva\n",
    "                    2. Cargar desde csv\n",
    "                    3. Sorteo aleatorio\n",
    "                    0/otros. Salir\n",
    "                \"\"\")\n",
    "    if opcion == '1':\n",
    "        personas.append(input(\"Introduce el nombre de la persona que quieres añadir: \"))\n",
    "    elif opcion == '2':\n",
    "        try:    \n",
    "            archivo =  open(input(\"Introduce el nombre del archivo csv: \") + \".csv\", 'r')    \n",
    "            personas.extend([linea.strip() for linea in archivo.readlines()])\n",
    "            archivo.close()\n",
    "        except:\n",
    "            print(f\"El archivo {archivo} no se encontró.\") \n",
    "    elif opcion == '3':\n",
    "        print(personas[random.randint(0,len(personas)-1)] + \" ha ganado el sorteo!!!!!\")\n",
    "    else:\n",
    "        salir = True\n",
    "        print(\"Saliendo\")\n"
   ]
  },
  {
   "cell_type": "markdown",
   "metadata": {},
   "source": [
    "4. Crear un programa “Diccionario” que permita consultar definiciones, agregar nuevas palabras con su definición o eliminar palabras. _Opcional: Cargar diccionario a partir de un archivo csv._\n"
   ]
  },
  {
   "cell_type": "code",
   "execution_count": null,
   "metadata": {},
   "outputs": [],
   "source": [
    "diccionario = {}\n",
    "salir = False\n",
    "while not salir:\n",
    "    opcion = input(\"\"\"\n",
    "                    1. Consultar definición\n",
    "                    2. Agregar palabra\n",
    "                    3. Eliminar palabra\n",
    "                    4. Cargar diccionario desde csv\n",
    "                    0/ otros. Salir\n",
    "                \"\"\")\n",
    "    if opcion == '1':\n",
    "        print(diccionario.get(input(\"Introduce la entrada que deseas consultar: \")))\n",
    "    elif opcion == '2':\n",
    "        entrada = input(\"Introduce el nombre de la entrada que deseas añadir: \")\n",
    "        definicion = input(\"Introduce su definición: \")\n",
    "        diccionario[entrada] = definicion\n",
    "    elif opcion == '3':\n",
    "        entrada = input(\"Introduce el nombre de la entrada que deseas eliminar: \")\n",
    "        if entrada in diccionario:\n",
    "            print(diccionario.pop(entrada) + \" eliminado\")\n",
    "        else:\n",
    "            print(\"Entrada no encontrada.\")\n",
    "    elif opcion == '4':\n",
    "        try:    \n",
    "            archivo =  open(input(\"Introduce el nombre del archivo csv: \") + \".csv\", 'r')    \n",
    "            for linea in archivo.readlines():\n",
    "                palabras = linea.split(\";\")\n",
    "                diccionario[palabras[0]] = palabras[1]\n",
    "            archivo.close()\n",
    "        except FileNotFoundError:\n",
    "            print(f\"El archivo {archivo} no se encontró.\")\n",
    "        except Exception as e:\n",
    "            print(f\"Ocurrió un error al leer el archivo: {e}\")\n",
    "        print(\"Lineas añadidas al diccionario exitosamente\")\n",
    "    else:\n",
    "        salir = True\n",
    "        print(\"Saliendo...\")\n"
   ]
  },
  {
   "cell_type": "markdown",
   "metadata": {},
   "source": [
    "5. Ingresar por teclado los nombres de 5 personas y almacenarlos en una lista. Crear una nueva lista con los nombres ordenados alfabéticamente e imprimirla por pantalla. _Opcional: Crea una función que ordene os nombres por su longitud para pasársela como parámetro al método Short._\n"
   ]
  },
  {
   "cell_type": "code",
   "execution_count": null,
   "metadata": {},
   "outputs": [],
   "source": [
    "personas = []\n",
    "for i in range(5):\n",
    "    personas.append(input(f\"Introduce el nombre {i}\"))\n",
    "personas_ordenada = sorted(personas)\n",
    "print(\"Nombres ordenados alfabéticamente: \")\n",
    "print(personas_ordenada)\n",
    "\n",
    "def ordenar_por_longitud(nombre):\n",
    "    return len(nombre)\n",
    "personas_ordenada_longitud = sorted(personas, key=ordenar_por_longitud)\n",
    "print(\"Nombres ordenados por longitud: \")\n",
    "print(personas_ordenada_longitud)\n",
    "\n"
   ]
  },
  {
   "cell_type": "markdown",
   "metadata": {},
   "source": [
    "6. Crear una lista con contenido [[50,34,70,20], [5,70,30,25], [10,5], [75,43,56,32,89], [[54,72]]. Imprimir la lista, asignar valor cero a todos los elementos mayores a 50 y volver a imprimir la lista.\n"
   ]
  },
  {
   "cell_type": "code",
   "execution_count": null,
   "metadata": {},
   "outputs": [],
   "source": [
    "listas = [[50,34,70,20], [5,70,30,25], [10,5], [75,43,56,32,89], [[54,72]]]\n",
    "print(listas)\n",
    "def pasar_a_cero(lista):\n",
    "    for valor in lista :\n",
    "        if isinstance(valor, list):\n",
    "            pasar_a_cero(valor)\n",
    "        else:\n",
    "            if valor >= 50 :\n",
    "                lista[lista.index(valor)] = 0\n",
    "pasar_a_cero(listas)\n",
    "print(listas)"
   ]
  },
  {
   "cell_type": "markdown",
   "metadata": {},
   "source": [
    "* ## Funciones:"
   ]
  },
  {
   "cell_type": "markdown",
   "metadata": {},
   "source": [
    "1. Confeccionar un programa que calcule el factorial de un número introducido por teclado:\n"
   ]
  },
  {
   "cell_type": "code",
   "execution_count": null,
   "metadata": {},
   "outputs": [],
   "source": [
    "def factorial(numero):\n",
    "    contador = 1\n",
    "    for valor in range(1, numero + 1):\n",
    "        contador *= valor\n",
    "    return contador \n",
    "numero = int(input(\"Introduce un número\"))\n",
    "print(f\"El factorial de {numero} es \" + str(factorial(numero)))"
   ]
  },
  {
   "cell_type": "markdown",
   "metadata": {},
   "source": [
    "2. Escribe una función que tome una palabra y retorne con todas las letras en minúscula menos la primera y la última.\n"
   ]
  },
  {
   "cell_type": "code",
   "execution_count": null,
   "metadata": {},
   "outputs": [],
   "source": [
    "def pasar_a_minuscula(palabra):\n",
    "    palabra = palabra[0].upper() + palabra[1:len(palabra)-1].lower() + palabra[len(palabra)-1].upper()\n",
    "    return palabra\n",
    "print(pasar_a_minuscula(input(\"Introduce la palabra que quieres pasar a minuscula excepto la primera y ultima letra\")))"
   ]
  },
  {
   "cell_type": "markdown",
   "metadata": {},
   "source": [
    "3. Reescribe el ejercicio 3 del apartado “Colecciones” utilizando una función para presentar el menú y recibir la opción seleccionada.\n"
   ]
  },
  {
   "cell_type": "code",
   "execution_count": null,
   "metadata": {},
   "outputs": [],
   "source": [
    "import random\n",
    "def menu():\n",
    "    return input(\"\"\"\n",
    "                    1. Agregar personas de forma interactiva\n",
    "                    2. Cargar desde csv\n",
    "                    3. Sorteo aleatorio\n",
    "                    0/otros. Salir\n",
    "                \"\"\")\n",
    "\n",
    "salir = False\n",
    "personas = []\n",
    "while not salir:\n",
    "    opcion = menu()\n",
    "    if opcion == '1':\n",
    "        personas.append(input(\"Introduce el nombre de la persona que quieres añadir: \"))\n",
    "    elif opcion == '2':\n",
    "        try:    \n",
    "            archivo =  open(input(\"Introduce el nombre del archivo csv: \") + \".csv\", 'r')    \n",
    "            personas.extend([linea.strip() for linea in archivo.readlines()])\n",
    "            archivo.close()\n",
    "        except:\n",
    "            print(f\"El archivo {archivo} no se encontró.\") \n",
    "    elif opcion == '3':\n",
    "        print(personas[random.randint(0,len(personas)-1)] + \" ha ganado el sorteo!!!!!\")\n",
    "    else:\n",
    "        salir = True\n",
    "        print(\"Saiendo\")\n"
   ]
  },
  {
   "cell_type": "markdown",
   "metadata": {},
   "source": [
    "* ## Objetos:"
   ]
  },
  {
   "cell_type": "markdown",
   "metadata": {},
   "source": [
    "1. Crea una clase “Saludo” que tenga los métodos: formal, informal y aleatorio. Los métodos pueden aceptar un parámetro (nombre de la persona a saludar) o ninguno (saludo genérico), el método aleatorio imprimirá un saludo aleatorio de una lista de saludos almacenados en la clase.\n"
   ]
  },
  {
   "cell_type": "code",
   "execution_count": null,
   "metadata": {},
   "outputs": [],
   "source": [
    "import random\n",
    "\n",
    "class Saludo:\n",
    "    __saludos = [\"Hola\", \"Buenos días\", \"Buenas tardes\", \"Buenas noches\", \"Qué tal\", \"Cómo estás\"]\n",
    "    def __init__(self, receptor=\"\"):\n",
    "        self.receptor = receptor\n",
    "    def formal(self):\n",
    "        print(f\"Buenos días, {self.receptor}\" if self.receptor else \"Buenos días\")\n",
    "    def informal(self):\n",
    "        print(f\"Hola, {self.receptor}\" if self.receptor else \"Hola\")\n",
    "    def aleatorio(self):\n",
    "        saludo = random.choice(self.__saludos)\n",
    "        print(f\"{saludo}, {self.receptor}\" if self.receptor else saludo)\n",
    "\n",
    "saludo = Saludo(\"Jorge\")\n",
    "saludo.aleatorio()\n",
    "saludo.formal()\n",
    "saludo.informal()\n",
    "saludo.receptor = \"\"\n",
    "saludo.aleatorio()\n",
    "saludo.formal()\n",
    "saludo.informal()"
   ]
  },
  {
   "cell_type": "markdown",
   "metadata": {},
   "source": [
    "2. Reescribe el ejercicio 3 del apartado “Colecciones” con orientación a objetos. _Opcional: Usa herencia para tener un diccionarios de al menos dos idiomas. Añade las opciones de importar o exportar el diccionario a un fichero._\n"
   ]
  },
  {
   "cell_type": "code",
   "execution_count": null,
   "metadata": {},
   "outputs": [],
   "source": [
    "import random\n",
    "\n",
    "class Sorteo:\n",
    "    def __init__(self):\n",
    "        self.personas = []\n",
    "\n",
    "    def agregar_persona(self, nombre):\n",
    "        self.personas.append(nombre)\n",
    "\n",
    "    def cargar_desde_csv(self, nombre_archivo):\n",
    "        try:\n",
    "            archivo = open(nombre_archivo + \".csv\", 'r') \n",
    "            self.personas.extend([linea.strip() for linea in archivo.readlines()])\n",
    "            archivo.close()\n",
    "        except FileNotFoundError:\n",
    "            print(f\"El archivo {nombre_archivo}.csv no se encontró.\")\n",
    "        except Exception as e:\n",
    "            print(f\"Ocurrió un error al leer el archivo: {e}\")\n",
    "\n",
    "    def sorteo_aleatorio(self):\n",
    "        if self.personas:\n",
    "            ganador = random.choice(self.personas)\n",
    "            print(f\"{ganador} ha ganado el sorteo!!!!!\")\n",
    "        else:\n",
    "            print(\"No hay personas en la lista para el sorteo.\")\n",
    "\n",
    "    def menu(self):\n",
    "        salir = False\n",
    "        while not salir:\n",
    "            opcion = input(\"\"\"\n",
    "                            1. Agregar personas de forma interactiva\n",
    "                            2. Cargar desde csv\n",
    "                            3. Sorteo aleatorio\n",
    "                            0/otros. Salir\n",
    "                        \"\"\")\n",
    "            if opcion == '1':\n",
    "                nombre = input(\"Introduce el nombre de la persona que quieres añadir: \")\n",
    "                self.agregar_persona(nombre)\n",
    "            elif opcion == '2':\n",
    "                nombre_archivo = input(\"Introduce el nombre del archivo csv: \")\n",
    "                self.cargar_desde_csv(nombre_archivo)\n",
    "            elif opcion == '3':\n",
    "                self.sorteo_aleatorio()\n",
    "            else:\n",
    "                salir = True\n",
    "                print(\"Saliendo\")\n",
    "\n",
    "sorteo = Sorteo()\n",
    "sorteo.menu()"
   ]
  },
  {
   "cell_type": "code",
   "execution_count": null,
   "metadata": {},
   "outputs": [],
   "source": [
    "class Diccionario:\n",
    "    def __init__(self, nombre_archivo=\"diccionario\"):\n",
    "        self.__diccionario = {}\n",
    "        self.nombre_archivo = nombre_archivo\n",
    "\n",
    "\n",
    "    def agregar_palabra(self, palabra, definicion):\n",
    "        self.__diccionario[palabra] = definicion\n",
    "\n",
    "    def eliminar_palabra(self, palabra):\n",
    "        if palabra in self.__diccionario:\n",
    "            del self.__diccionario[palabra]\n",
    "        else:\n",
    "            print(\"Palabra no encontrada.\")\n",
    "\n",
    "    def consultar_definicion(self, palabra):\n",
    "        return self.__diccionario.get(palabra, \"Definición no encontrada.\")\n",
    "\n",
    "    def cargar_desde_csv(self, nombre_archivo):\n",
    "        try:    \n",
    "            archivo =  open(nombre_archivo + \".csv\", 'r')    \n",
    "            for linea in archivo.readlines():\n",
    "                palabras = linea.split(\";\")\n",
    "                self.__diccionario[palabras[0]] = palabras[1]\n",
    "            archivo.close()\n",
    "        except FileNotFoundError:\n",
    "            print(f\"El archivo {archivo} no se encontró.\")\n",
    "        except Exception as e:\n",
    "            print(f\"Ocurrió un error al leer el archivo: {e}\")\n",
    "        print(\"Lineas añadidas al diccionario exitosamente\")\n",
    "\n",
    "    def exportar_a_csv(self):\n",
    "        try:\n",
    "            archivo = open(self.nombre_archivo + \".csv\", 'w', newline='')\n",
    "            for palabra, definicion in self.__diccionario.items():\n",
    "                archivo.write(palabra + \";\" + definicion)\n",
    "            archivo.close()\n",
    "        except Exception as e:\n",
    "            print(f\"Ocurrió un error al escribir el archivo: {e}\")\n",
    "\n",
    "    def menu(self):\n",
    "        salir = False\n",
    "        while not salir:\n",
    "            opcion = input(\"\"\"\n",
    "                            1. Consultar definición\n",
    "                            2. Agregar palabra\n",
    "                            3. Eliminar palabra\n",
    "                            4. Cargar diccionario desde csv\n",
    "                            5. Exportar diccionario a csv\n",
    "                            0/otros. Salir\n",
    "                        \"\"\")\n",
    "            if opcion == '1':\n",
    "                print(self.consultar_definicion(input(\"Introduce la palabra que deseas consultar: \")))\n",
    "            elif opcion == '2':\n",
    "                self.agregar_palabra(input(\"Introduce la palabra que deseas añadir: \"), input(\"Introduce su definición: \"))\n",
    "            elif opcion == '3':\n",
    "                self.eliminar_palabra(input(\"Introduce la palabra que deseas eliminar: \"))\n",
    "            elif opcion == '4':\n",
    "                self.cargar_desde_csv(input(\"Introduce el nombre del archivo csv: \"))\n",
    "            elif opcion == '5':\n",
    "                self.exportar_a_csv()\n",
    "            else:\n",
    "                salir = True\n",
    "                print(\"Saliendo...\")\n",
    "\n",
    "class DiccionarioEspanol(Diccionario):\n",
    "    def __init__(self, nombre_archivo=\"diccionario_espanol\"):\n",
    "        super().__init__(nombre_archivo)\n",
    "\n",
    "class DiccionarioIngles(Diccionario):\n",
    "    def __init__(self, nombre_archivo=\"diccionario_ingles\"):\n",
    "        super().__init__(nombre_archivo)\n",
    "\n",
    "diccionario_espanol = DiccionarioEspanol()\n",
    "diccionario_ingles = DiccionarioIngles()\n",
    "\n",
    "diccionario_espanol.menu()\n",
    "diccionario_ingles.menu()\n"
   ]
  }
 ],
 "metadata": {
  "kernelspec": {
   "display_name": "Python 3",
   "language": "python",
   "name": "python3"
  },
  "language_info": {
   "codemirror_mode": {
    "name": "ipython",
    "version": 3
   },
   "file_extension": ".py",
   "mimetype": "text/x-python",
   "name": "python",
   "nbconvert_exporter": "python",
   "pygments_lexer": "ipython3",
   "version": "3.13.1"
  }
 },
 "nbformat": 4,
 "nbformat_minor": 2
}
